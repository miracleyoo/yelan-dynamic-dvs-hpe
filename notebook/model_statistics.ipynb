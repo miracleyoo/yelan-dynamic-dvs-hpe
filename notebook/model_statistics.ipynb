{
 "cells": [
  {
   "cell_type": "code",
   "execution_count": 4,
   "metadata": {},
   "outputs": [
    {
     "name": "stdout",
     "output_type": "stream",
     "text": [
      "The autoreload extension is already loaded. To reload it, use:\n",
      "  %reload_ext autoreload\n",
      "Current Directory:  e:\\GitHub\\dvs-hpe-light\\notebook\n",
      "Current Node:  Kirito\n",
      "Cuda availability:  True\n"
     ]
    }
   ],
   "source": [
    "import sys\n",
    "import torch.nn as nn\n",
    "from torchinfo import summary\n",
    "\n",
    "sys.path.append('..')\n",
    "from scripts.data import DataInterface\n",
    "from scripts.model import ModelInteface, predict3d\n",
    "from scripts.utils import *\n",
    "from tools.test_parts import *\n",
    "from scripts.model.metrics import MPJPE\n",
    "\n",
    "%load_ext autoreload\n",
    "%autoreload 2\n",
    "%matplotlib inline\n",
    "\n",
    "platform_check()"
   ]
  },
  {
   "cell_type": "code",
   "execution_count": 15,
   "metadata": {},
   "outputs": [],
   "source": [
    "def count_parameters(model: nn.Module) -> int:\n",
    "    return sum(p.numel() for p in model.parameters() if p.requires_grad)"
   ]
  },
  {
   "cell_type": "code",
   "execution_count": 17,
   "metadata": {},
   "outputs": [
    {
     "name": "stdout",
     "output_type": "stream",
     "text": [
      "L:\\DVS\\models\\hpe\\MiDHP\\05-25-16-19-04\\checkpoints\\best-epoch=97-val_loss=0.079.ckpt\n",
      "Entering ModelInteface...\n",
      "Model init entered!\n",
      "[√] Using ConvLSTM in SadPose.\n",
      "Loading mask net from ckpt!\n",
      "Model hparams saved!\n"
     ]
    },
    {
     "name": "stderr",
     "output_type": "stream",
     "text": [
      "e:\\GitHub\\dvs-hpe-light\\notebook\\..\\scripts\\model\\unet_interface.py:166: DeprecationWarning: inspect.getargspec() is deprecated since Python 3.0, use inspect.signature() or inspect.getfullargspec()\n",
      "  class_args = inspect.getargspec(Model.__init__).args[1:]\n"
     ]
    },
    {
     "name": "stdout",
     "output_type": "stream",
     "text": [
      "Output channel number: 16\n",
      "[√] UNet Freezed.\n",
      "Adding original mpjpe values to results.\n",
      "Model Initialized.\n",
      "Using trained model:  L:\\DVS\\models\\hpe\\MiDHP\\05-25-16-19-04\\checkpoints\\best-epoch=97-val_loss=0.079.ckpt\n"
     ]
    }
   ],
   "source": [
    "model = load_model(time_str=model_date_dict['MiDHP']['w_cl'], best=True, device='cuda', root=midhp_root)\n",
    "for param in model.model.mask_net.parameters():\n",
    "    param.requires_grad = True"
   ]
  },
  {
   "cell_type": "code",
   "execution_count": 18,
   "metadata": {},
   "outputs": [
    {
     "name": "stdout",
     "output_type": "stream",
     "text": [
      "Total FLOPs: 1482381267104\n"
     ]
    }
   ],
   "source": [
    "# model = MyModel()\n",
    "input_size = (1, 16, 6, 260, 346)  # (batch_size, channels, height, width)\n",
    "\n",
    "# Get model summary including FLOPs\n",
    "model_info = summary(model, input_size=input_size, verbose=0, col_width=16, col_names=[\"input_size\", \"output_size\", \"num_params\", \"mult_adds\"])\n",
    "\n",
    "total_flops = model_info.total_mult_adds\n",
    "print(f\"Total FLOPs: {total_flops}\")"
   ]
  },
  {
   "cell_type": "code",
   "execution_count": 19,
   "metadata": {},
   "outputs": [
    {
     "data": {
      "text/plain": [
       "61209239"
      ]
     },
     "execution_count": 19,
     "metadata": {},
     "output_type": "execute_result"
    }
   ],
   "source": [
    "model_info.trainable_params"
   ]
  },
  {
   "cell_type": "code",
   "execution_count": 23,
   "metadata": {},
   "outputs": [
    {
     "data": {
      "text/plain": [
       "40819040"
      ]
     },
     "execution_count": 23,
     "metadata": {},
     "output_type": "execute_result"
    }
   ],
   "source": [
    "count_parameters(model.model.mask_net)"
   ]
  },
  {
   "cell_type": "code",
   "execution_count": 22,
   "metadata": {},
   "outputs": [
    {
     "data": {
      "text/plain": [
       "40819040"
      ]
     },
     "execution_count": 22,
     "metadata": {},
     "output_type": "execute_result"
    }
   ],
   "source": [
    "61209239 - 20390199"
   ]
  }
 ],
 "metadata": {
  "kernelspec": {
   "display_name": "dvs_pose",
   "language": "python",
   "name": "python3"
  },
  "language_info": {
   "codemirror_mode": {
    "name": "ipython",
    "version": 3
   },
   "file_extension": ".py",
   "mimetype": "text/x-python",
   "name": "python",
   "nbconvert_exporter": "python",
   "pygments_lexer": "ipython3",
   "version": "3.8.11"
  },
  "orig_nbformat": 4
 },
 "nbformat": 4,
 "nbformat_minor": 2
}
